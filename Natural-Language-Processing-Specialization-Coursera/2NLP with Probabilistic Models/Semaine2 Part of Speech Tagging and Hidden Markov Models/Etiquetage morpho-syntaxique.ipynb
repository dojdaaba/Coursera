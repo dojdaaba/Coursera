{
 "cells": [
  {
   "cell_type": "markdown",
   "metadata": {},
   "source": [
    "'étiquetage morpho-syntaxique"
   ]
  },
  {
   "cell_type": "markdown",
   "metadata": {},
   "source": [
    "**l'étiquetage morpho-syntaxique** (aussi appelé étiquetage grammatical, POS tagging (part-of-speech tagging) en anglais) est le processus qui consiste à associer aux mots d'un texte les informations grammaticales correspondantes comme la partie du discours, le genre, le nombre etc. à l'aide d'un outil informatique il identifie les nom, verbes et celà et très utile pour la compréhension dans les phrases, on peut aussi l'utiliser en reconnaissance vocale, il vérifie si une séquence de mots à une probabilité élevé"
   ]
  },
  {
   "cell_type": "raw",
   "metadata": {},
   "source": [
    "Terme lexical     Etiquette (Tag)      exemple \n",
    "\n",
    "noun                NN              something, nothing\n",
    "verb                VB              learn, study\n",
    "determiner          DT                 the, a\n",
    "w-adverb            WRB               why, where"
   ]
  },
  {
   "cell_type": "markdown",
   "metadata": {},
   "source": [
    "Cepandant certains mots peuvent avoir plusieur Tag comme well et celà peut etre ambigue  \n",
    "\n",
    "- The whole team played **well**. [adverb]  (bien)\n",
    "- You are doing **well** for yourself. [adjective] (très bien)\n",
    "- **Well**, this assignment took me forever to complete. [interjection] (Eh bien)\n",
    "- The **well** is dry. [noun] (le bien)\n",
    "- Tears were beginning to **well** in her eyes. [verb] (couler)"
   ]
  },
  {
   "cell_type": "markdown",
   "metadata": {},
   "source": [
    "**Les chaine de Markov**\n",
    "\n",
    "Exemple: Why not learn.......    \n",
    "\n",
    "Devons nous compléter par un nom ? par un verbe  "
   ]
  },
  {
   "cell_type": "markdown",
   "metadata": {},
   "source": [
    "<img src=\"cm1.png\" style=\"width:700px;height:400;\">"
   ]
  },
  {
   "cell_type": "code",
   "execution_count": null,
   "metadata": {},
   "outputs": [],
   "source": []
  }
 ],
 "metadata": {
  "kernelspec": {
   "display_name": "Python 3",
   "language": "python",
   "name": "python3"
  },
  "language_info": {
   "codemirror_mode": {
    "name": "ipython",
    "version": 3
   },
   "file_extension": ".py",
   "mimetype": "text/x-python",
   "name": "python",
   "nbconvert_exporter": "python",
   "pygments_lexer": "ipython3",
   "version": "3.8.2"
  }
 },
 "nbformat": 4,
 "nbformat_minor": 4
}
